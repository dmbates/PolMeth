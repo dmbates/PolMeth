{
 "cells": [
  {
   "cell_type": "markdown",
   "metadata": {
    "slideshow": {
     "slide_type": "slide"
    }
   },
   "source": [
    "# Languages for Data Analysis\n",
    "\n",
    "> \n",
    "\n",
    "### Douglas Bates\n",
    "### Emeritus Professor\n",
    "### Dept. of Statistics\n",
    "### U. of Wisconsin-Madison,"
   ]
  },
  {
   "cell_type": "markdown",
   "metadata": {
    "slideshow": {
     "slide_type": "slide"
    }
   },
   "source": [
    "## For the impatient"
   ]
  },
  {
   "cell_type": "markdown",
   "metadata": {
    "slideshow": {
     "slide_type": "fragment"
    }
   },
   "source": [
    "- Much of this talk will be about the [Julia](https://julialang.org) programming language"
   ]
  },
  {
   "cell_type": "markdown",
   "metadata": {
    "slideshow": {
     "slide_type": "fragment"
    }
   },
   "source": [
    "- For an overview of [Julia](https:julialang.org) for econometrics, see [quantecon.org](https://quantecon.org)\n",
    "    - The [lectures](https://lectures.quantecon.org/) tab provides a [Python](https://python.org) version and a [Julia](https://julialang.org) version\n",
    "    - The [About](https://lectures.quantecon.org/about_lectures.html) tab is a very good discussion of why these two languages were chosen."
   ]
  },
  {
   "cell_type": "markdown",
   "metadata": {
    "slideshow": {
     "slide_type": "slide"
    }
   },
   "source": [
    "## More Julia resources"
   ]
  },
  {
   "cell_type": "markdown",
   "metadata": {
    "slideshow": {
     "slide_type": "fragment"
    }
   },
   "source": [
    "- The original developers formed a company, [Julia Computing](https://juliacomputing.com), to provide consulting services and oversee the development of the language.\n",
    "    - the [case studies](https://juliacomputing.com/case-studies/) section is of particular interest"
   ]
  },
  {
   "cell_type": "markdown",
   "metadata": {
    "slideshow": {
     "slide_type": "fragment"
    }
   },
   "source": [
    "- Registered Julia packages are at [pkg.julialang.org](https://pkg.julialang.org)\n",
    "    - note that Julia packages are [git](https://en.wikipedia.org/wiki/Git) repositories, usually housed on [github.com](http://github.com)\n",
    "    - see also [Julia Package Ecosystem Pulse](https://pkg.julialang.org/pulse.html)"
   ]
  },
  {
   "cell_type": "markdown",
   "metadata": {
    "slideshow": {
     "slide_type": "fragment"
    }
   },
   "source": [
    "- Documentation for the language itself is at [docs.julialang.org](https://docs.julialang.org)"
   ]
  },
  {
   "cell_type": "markdown",
   "metadata": {
    "slideshow": {
     "slide_type": "slide"
    }
   },
   "source": [
    "## Language shapes the way we think - Benjamin Lee Whorf"
   ]
  },
  {
   "cell_type": "markdown",
   "metadata": {
    "slideshow": {
     "slide_type": "fragment"
    }
   },
   "source": [
    "- I have been doing data analysis programming for a long time\n",
    "    - took my only computing course in 1967 - didn't like it\n",
    "    - in the 70's wrote Fortran code that I hope no one ever discovers\n",
    "    - late 70's read Kernighan and his co-authors, saw programming differently\n",
    "    - was able to use more sophisticated languages, almost by accident, in thesis research\n",
    "    - some SPSS and SAS use, Minitab for teaching\n",
    "    - heard about the work on S by John Chambers and others at Bell Labs "
   ]
  },
  {
   "cell_type": "markdown",
   "metadata": {
    "slideshow": {
     "slide_type": "slide"
    }
   },
   "source": [
    "## What was different about S?"
   ]
  },
  {
   "cell_type": "markdown",
   "metadata": {
    "slideshow": {
     "slide_type": "fragment"
    }
   },
   "source": [
    "- an interactive language (REPL - read-eval-print-loop)"
   ]
  },
  {
   "cell_type": "markdown",
   "metadata": {
    "slideshow": {
     "slide_type": "fragment"
    }
   },
   "source": [
    "- functional language (in the sense of defining and calling functions)"
   ]
  },
  {
   "cell_type": "markdown",
   "metadata": {
    "slideshow": {
     "slide_type": "fragment"
    }
   },
   "source": [
    "- heterogeneous, self-describing, recursive, extensible data structures\n",
    "    - contrast with flat-files structures in SPSS, SAS; vectors (columns) in Minitab"
   ]
  },
  {
   "cell_type": "markdown",
   "metadata": {
    "slideshow": {
     "slide_type": "fragment"
    }
   },
   "source": [
    "- random-access memory based, not a filter\n",
    "    - required a \"second megabyte of memory\""
   ]
  },
  {
   "cell_type": "markdown",
   "metadata": {
    "slideshow": {
     "slide_type": "fragment"
    }
   },
   "source": [
    "- explicit interfaces to compiled code\n",
    "    - original versions were more of a wrapper around numerical and graphics code bases"
   ]
  },
  {
   "cell_type": "markdown",
   "metadata": {
    "slideshow": {
     "slide_type": "slide"
    }
   },
   "source": [
    "## What was the same with S?"
   ]
  },
  {
   "cell_type": "markdown",
   "metadata": {
    "slideshow": {
     "slide_type": "fragment"
    }
   },
   "source": [
    "- explicitly designed for data analysis and graphics"
   ]
  },
  {
   "cell_type": "markdown",
   "metadata": {
    "slideshow": {
     "slide_type": "fragment"
    }
   },
   "source": [
    "- provision for missing data was built in at a very low level"
   ]
  },
  {
   "cell_type": "markdown",
   "metadata": {
    "slideshow": {
     "slide_type": "fragment"
    }
   },
   "source": [
    "- internally, data structures were always vectors, possibly with \"attributes\"\n",
    "    - \"lists\" are actually vectors of pointers, not linked lists as in Lisp"
   ]
  },
  {
   "cell_type": "markdown",
   "metadata": {
    "slideshow": {
     "slide_type": "fragment"
    }
   },
   "source": [
    "- \"semi-\"proprietary software\n",
    "    - AT&T couldn't market it (or the Unix operating system)\n",
    "    - some universities became \"beta-test sites\"\n",
    "    - U. of Washington Stats. Dept. spun off \"StatSci\" and marketed S-PLUS"
   ]
  },
  {
   "cell_type": "markdown",
   "metadata": {
    "slideshow": {
     "slide_type": "slide"
    }
   },
   "source": [
    "## The 90's and R"
   ]
  },
  {
   "cell_type": "markdown",
   "metadata": {
    "slideshow": {
     "slide_type": "fragment"
    }
   },
   "source": [
    "- open-source software gained traction (perl, python, emacs, GNU, MySQL, PostgreSQL) in some areas\n",
    "    - servers were often characterized as LAMP (Linux, Apache, MySQL, Perl/Python)\n",
    "    - first releases of both Python and Linux were in 1991"
   ]
  },
  {
   "cell_type": "markdown",
   "metadata": {
    "slideshow": {
     "slide_type": "fragment"
    }
   },
   "source": [
    "- mid-90's Ross Ihaka and Robert Gentleman started work on a language \"not-unlike S\"\n",
    "    - S-PLUS had been ported to DOS/Windows but not to Macintosh\n",
    "    - essentially a \"clean room\" reimplementation of the S language\n",
    "    - Martin Maechler contributed so many patches they gave him an account\n",
    "    - Martin encouraged release under the GPL\n",
    "    - others joined the party, 1997 R-Core was formed."
   ]
  },
  {
   "cell_type": "markdown",
   "metadata": {
    "slideshow": {
     "slide_type": "slide"
    }
   },
   "source": [
    "## The 90's and CRAN"
   ]
  },
  {
   "cell_type": "markdown",
   "metadata": {
    "slideshow": {
     "slide_type": "fragment"
    }
   },
   "source": [
    "- Kurt Hornik and Fritz Leisch, then at TU-Wien, created the \"Comprehensive R Archive Network\" or CRAN\n",
    "    - patterned after CTAN (TeX) and CPAN (Perl) archive networks"
   ]
  },
  {
   "cell_type": "markdown",
   "metadata": {
    "slideshow": {
     "slide_type": "fragment"
    }
   },
   "source": [
    "- encouraged users to become developers and researchers to provide a reference implementation of their methods"
   ]
  },
  {
   "cell_type": "markdown",
   "metadata": {
    "slideshow": {
     "slide_type": "fragment"
    }
   },
   "source": [
    "- promoted the development of package standards, testing etc."
   ]
  },
  {
   "cell_type": "markdown",
   "metadata": {
    "slideshow": {
     "slide_type": "fragment"
    }
   },
   "source": [
    "- one important facility added later (Uwe Ligges) was \"Win-builder\" to create binary Windows packages\n",
    "    - most developers were on Linux, most users on Windows"
   ]
  },
  {
   "cell_type": "markdown",
   "metadata": {
    "slideshow": {
     "slide_type": "slide"
    }
   },
   "source": [
    "## The aughts - R fourishes"
   ]
  },
  {
   "cell_type": "markdown",
   "metadata": {
    "slideshow": {
     "slide_type": "fragment"
    }
   },
   "source": [
    "- initially R was considered to be a \"poor man's S-PLUS\""
   ]
  },
  {
   "cell_type": "markdown",
   "metadata": {
    "slideshow": {
     "slide_type": "fragment"
    }
   },
   "source": [
    "- many people felt that \"Freeware\" couldn't possibly be as good as commercial software"
   ]
  },
  {
   "cell_type": "markdown",
   "metadata": {
    "slideshow": {
     "slide_type": "fragment"
    }
   },
   "source": [
    "- eventually the open-source model was recognized as producing high-quality code\n",
    "    - Eric S. Raymond, \"Given enough eyeballs, all bugs are shallow.\""
   ]
  },
  {
   "cell_type": "markdown",
   "metadata": {
    "slideshow": {
     "slide_type": "fragment"
    }
   },
   "source": [
    "- CRAN went from 10's to 100's to 1000's of packages"
   ]
  },
  {
   "cell_type": "markdown",
   "metadata": {
    "slideshow": {
     "slide_type": "fragment"
    }
   },
   "source": [
    "- useR! conferences started, *R Newsletter* later to become *R Journal* founded"
   ]
  },
  {
   "cell_type": "markdown",
   "metadata": {
    "slideshow": {
     "slide_type": "fragment"
    }
   },
   "source": [
    "- papers, books, online resources, became available"
   ]
  },
  {
   "cell_type": "markdown",
   "metadata": {
    "slideshow": {
     "slide_type": "slide"
    }
   },
   "source": [
    "## The aughts - other languages enter the mix"
   ]
  },
  {
   "cell_type": "markdown",
   "metadata": {
    "slideshow": {
     "slide_type": "fragment"
    }
   },
   "source": [
    "- S and R were designed for data analysis and graphics, not general purpose programming\n",
    "    - as Ross said, \"we thought maybe a couple of hundred people total would use it\""
   ]
  },
  {
   "cell_type": "markdown",
   "metadata": {
    "slideshow": {
     "slide_type": "fragment"
    }
   },
   "source": [
    "- every language is a trade-off between pre-defined, high-level operations and low-level building blocks\n",
    "    - R is more high-level tools: vectors, matrices, data frames are okay, scalars, loops, low-level logic not so much\n",
    "    - the number of internal data types is surprisingly small (32-bit integers, 64-bit floats and character strings)"
   ]
  },
  {
   "cell_type": "markdown",
   "metadata": {
    "slideshow": {
     "slide_type": "fragment"
    }
   },
   "source": [
    "- languages like Python provided more flexibility but w/o the data science specific structures\n",
    "    - required add-ons like numpy, pandas, etc.    "
   ]
  }
 ],
 "metadata": {
  "celltoolbar": "Slideshow",
  "kernelspec": {
   "display_name": "Julia 0.6.0",
   "language": "julia",
   "name": "julia-0.6"
  },
  "language_info": {
   "file_extension": ".jl",
   "mimetype": "application/julia",
   "name": "julia",
   "version": "0.6.0"
  },
  "livereveal": {
   "height": 1024,
   "width": 1280
  }
 },
 "nbformat": 4,
 "nbformat_minor": 2
}
